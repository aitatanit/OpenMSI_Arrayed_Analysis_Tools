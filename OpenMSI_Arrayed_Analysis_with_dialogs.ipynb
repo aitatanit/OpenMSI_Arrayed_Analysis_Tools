{
 "cells": [
  {
   "cell_type": "markdown",
   "metadata": {},
   "source": [
    "<h1>OpenMSI Arrayed Analysis Tool</h1>\n",
    "<h2>Introduction</h2>\n",
    "Mass spectrometry imaging (MSI) enables the mass analysis of thousands of spatially defined samples, and can be applied in the high-throughput screening of, for example, enzyme activity or compound libraries. Here we present the OpenMSI Arrayed Analaysis Tool, an iPython based software tool for the analysis of spatially defined samples with MSI.\n",
    "\n",
    "This tutorial Notebook ([name notebook](link to notebook in reposetory)) will demonstrate the basic features of the OpenMSI Arrayed Analaysis Tool, with step by step guidance on how to run the iPython Notebook. A version without markdown is also available ([name notebook](link to notebook in reposetory)). To complete this tutorial, one would need:\n",
    "<ul>\n",
    "<li>Jupyter/iPython. OpenMSI Arrayed Analaysis Tool requires Jupyter version 4.1 and Python version 2.7. Further information on iPython/Jupyter can be found at and http://ipython.org/. </li>\n",
    "<li>An OpenMSI account. Users need to get an OpenMSI account in order to use this tool. An OpenMSI account can be obtained through the OpenMSI team and NERSC (https://openmsi.nersc.gov/openmsi/client/omsiAccount) at no cost.</li>\n",
    "</ul>\n",
    "\n",
    "Users don't have to provide a MSI data file. For this tutorial, we have selected the usage of the [name dataset](link to dataset in openmsi) MSI data set (as used in the [manuscript](link to paper), which is publicly available. "
   ]
  },
  {
   "cell_type": "markdown",
   "metadata": {},
   "source": [
    "<h2>How to use this iPython/Jupyter Notebook</h2>\n",
    "*An interactive demo for new users of iPython/Jupyter notebooks can be found at [Nature](http://www.nature.com/news/ipython-interactive-demo-7.21492)*\n",
    "\n",
    "In this tutorial, there are 2 types of content, namely text and code. This content is placed in boxes called \"cells\". If you click around on this page, you'll see different cells highlighted. To execute each cell (regardless of content), you hit on your keyboard SHIFT+ENTER or press the play button. If the cell contains text, the content will be displayed directly. If the cell contains code, the code will be executed. "
   ]
  },
  {
   "cell_type": "markdown",
   "metadata": {},
   "source": [
    "<h2>Loading Arrayed Analysis Tool</h2>\n",
    "Execute the cell below to load the OpenMSI Arrayed Analysis Tool. \n",
    "<p>_--When succesful, the message \"Completed loading OpenMSI Arrayed Analysis Toolkit\" will appear--_"
   ]
  },
  {
   "cell_type": "code",
   "execution_count": 1,
   "metadata": {
    "collapsed": false
   },
   "outputs": [
    {
     "name": "stdout",
     "output_type": "stream",
     "text": [
      "Completed loading OpenMSI Arrayed Analysis Toolkit\n"
     ]
    }
   ],
   "source": [
    "#load the code. Since it's specialized ipython notebook code, use '%run' rather than 'import'\n",
    "%run Arrayed_Analysis_Tools.ipy"
   ]
  },
  {
   "cell_type": "markdown",
   "metadata": {},
   "source": [
    "<h2>Log into OpenMSI</h2>\n",
    "Execute the cell below. When the cell is executed, the user is asked to put in their NERSC/OpenMSI username. \n",
    "<p>After entering their username, the user is asked to put in their NERSC/OpenMSI password. _--If login is succesful, the message \"Login appears to be successful!\" will appear--_<p>\n",
    "<p> __--Log in is not required for this tutorial. However, in order to analysis the users' own files, logging into OpenMSI is required--__"
   ]
  },
  {
   "cell_type": "code",
   "execution_count": 2,
   "metadata": {
    "collapsed": false
   },
   "outputs": [
    {
     "name": "stdout",
     "output_type": "stream",
     "text": [
      "Login appears to be successful!\n"
     ]
    }
   ],
   "source": [
    "#log into OpenMSI.nersc.gov\n",
    "openMSIsession = login()"
   ]
  },
  {
   "cell_type": "markdown",
   "metadata": {},
   "source": [
    "<h2>File and ion selection</h2>\n",
    "After a successful login, executing the file selector cell will prompt a list of the users available OpenMSI files. _--If not logged into OpenMSI, only the publicly available OpenMSI files will be displayed, including the file used in this tutorial--_\n",
    "<ul>\n",
    "<li> Next, select the file (name file) by clicking on the file name.\n",
    "<li> Then, put in the corresponding Experiment Index and Data Index to the file you want to analysie. For this tutorial, put in '0' for both indexes. \n",
    "<li> Next, provide the m/z values of the ions for analysis. Insert the m/z value in the 'Add an ion' box, and click the 'Add Ion\" button. The value will appear in the box 'Select which ions you want to load'. For the tutorial, add the following m/z values: ...-... \n",
    "<li> Ions can be removed be first clicking on the m/z value in the 'Select which ions you want to load' box and then on the 'Remove Ion' button.\n",
    "<li> Then, put in the value for the integrate at +/- this amount of the inserted m/z values. Users can choose between 'absolute m/z values' or '% of m/z'. For this tutorial select the 'absolute m/z values' and set it at ... .\n",
    "<li> Last, using the given parameters, a base image has to generated. To do this, the user has to click on the 'Load Image!' button. _--After clicking on the 'Load Image!' button, the line \"Loading image... \" will appear. The progress of loading the separate ions will be displayed, in the form of \"loading ion 1 of x. m/z = x\"--_ ___--When loading has completed, the message \"Image has been loaded.\" will appear--___  \n",
    "<ul>"
   ]
  },
  {
   "cell_type": "code",
   "execution_count": 3,
   "metadata": {
    "collapsed": false
   },
   "outputs": [
    {
     "name": "stdout",
     "output_type": "stream",
     "text": [
      "Stored 'arrayed_analysis_default_filename' (unicode)\n",
      "Loading image...\n",
      "loading ion 1 of 4. m/z = 900.000000 +/- 0.500000\n",
      "loading ion 2 of 4. m/z = 800.899624 +/- 0.500000\n",
      "loading ion 3 of 4. m/z = 888.212000 +/- 0.500000\n",
      "loading ion 4 of 4. m/z = 750.654600 +/- 0.500000\n",
      "Image has been loaded.\n",
      "Image has been saved in the global 'img' variable.\n",
      "Loading image...\n",
      "loading ion 1 of 4. m/z = 900.000000 +/- 0.500000\n",
      "loading ion 2 of 4. m/z = 800.899624 +/- 0.500000\n",
      "loading ion 3 of 4. m/z = 888.212000 +/- 0.500000\n",
      "loading ion 4 of 4. m/z = 750.654600 +/- 0.500000\n",
      "Image has been loaded.\n",
      "Image has been saved in the global 'img' variable.\n"
     ]
    }
   ],
   "source": [
    "if \"openMSIsession\" not in locals():\n",
    "    openMSIsession=OpenMSIsession()\n",
    "openMSIsession.imageLoader_with_dialogs() #once loaded the image will be stored in the \"img\" variable"
   ]
  },
  {
   "cell_type": "markdown",
   "metadata": {},
   "source": [
    "<h2>Display base image</h2>\n",
    "In order to display the generated base image, execute the cell below. The base image will be displayed in new window. The base image is the ion-intensity vizualization of all selected ions and will be used for mask placement. \n",
    "<p> _--For this tutorial, this step is optional--_\n",
    "<p>___--In order to continue with running the next cell in the iPython notebook, the base image figure window has to be closed--___\n"
   ]
  },
  {
   "cell_type": "code",
   "execution_count": 4,
   "metadata": {
    "collapsed": false
   },
   "outputs": [
    {
     "name": "stdout",
     "output_type": "stream",
     "text": [
      "The window should be open now. If you can't see it, check to see if it's behind another window\n"
     ]
    }
   ],
   "source": [
    "plt.imshow(img.baseImage,cmap='jet_r',clim=(0.0,np.amax(img.baseImage)/2)) #get rid of the /2 to see a wider range, or divide\n",
    "                                                                           #by a bigger number if you want a narrower range\n",
    "plt.colorbar()\n",
    "putWindowOnTop()\n",
    "plt.show()"
   ]
  },
  {
   "cell_type": "markdown",
   "metadata": {},
   "source": [
    "<h2>Placing trapezoidal mask</h2>\n",
    "By executing the cell below, a trapezoidal mask containing individual markers will be generated. The size of the trapezoid and the number of markers is determined by number of rows and columns. For this tutorial, generate a trapezoid with # rows and # columns. When the cell is executed, the base image with the trapezoidal mask will be displayed in new window.\n",
    "<p> Then, the trapezoidal mask is roughly placed over the arryaed samples; optimization of positioning of the individual markers will be performed in the next cells. The mask can be moved by dragging the corner markers of the trapezoid (highlighted with red halos) to the prefered position. For this tutorial, place the trapezoidal mask by dragging the corner markers of the trapezoid to the corner samples. Since the top right corner doesn't contain samples, roughly position the top right marker so that the top row and right column markers allign with the samples.\n",
    "<p>__--To continue, the base image figure window has to be closed. The last coordinates of the mask will be stored.--__"
   ]
  },
  {
   "cell_type": "code",
   "execution_count": 5,
   "metadata": {
    "collapsed": false
   },
   "outputs": [
    {
     "name": "stdout",
     "output_type": "stream",
     "text": [
      "Number of columns? leave blank for default (\"2\") \n",
      "Number of rows? leave blank for default (\"10\") \n",
      "Stored 'arrayed_analysis_columns' (int)\n",
      "Stored 'arrayed_analysis_rows' (int)\n",
      "The window should be open now. If you can't see it, check to see if it's behind another window\n",
      "new spot x and y locations have been saved.\n"
     ]
    }
   ],
   "source": [
    "#define spot centers as a trapezoid.\n",
    "img.roughPosition_with_dialogs()"
   ]
  },
  {
   "cell_type": "markdown",
   "metadata": {},
   "source": [
    "<h2>Automatic spot optimization</h2>\n",
    "In the next cell, the Jupyter notebook will optimze the marker position. For detials on the optimization algorithm, see the method section in the [manuscript](link to paper). For this tutorial, perform the automatic spot optimization.\n",
    "<ul>\n",
    "<li> First, put in the integration radius for the individual markers in the mask. For the tutorial, put in x. \n",
    "<li> Then, put in the number of rounds of optimization. For this tutorial, put in x. \n",
    "<li> Next, put in the number of pixels how far away from the current location should the algorithm searches. For this tutorial, put in x.\n",
    "<li> Then, if you don't want that the markers will overlap after optimalization, check the box. For this tutorial, check the box.\n",
    "<li> Next, give weighting values for each ion. For this tutorial, put in 1 for all ions. \n",
    "<li> You can calculate the scores for the current marker locations, by clicking on the 'Calculate scores for current spot locations' button. Optimal scores will be x. For this tutorial, you can skip this step.\n",
    "<li> Then, put in the minimum score necessary to move a marker. For this tutorial, put in x. \n",
    "<li> Last, using the given parameters, the marker position can be optimized. To do this, the user has to click on the 'Optimize Spots!' button. _--After clicking on the button, the progress of the optimization will be displayed. When optimization is completed, the message \"optimization routine completed. new spot x and y positions saved.\" will appear--_\n",
    "\n",
    "<p> _--Performing the spot optimization is optional. Individual markers can be positioned manually in the cell 'Displaying optimized markers(s) positioning'--_"
   ]
  },
  {
   "cell_type": "code",
   "execution_count": 6,
   "metadata": {
    "collapsed": false
   },
   "outputs": [
    {
     "name": "stdout",
     "output_type": "stream",
     "text": [
      "Stored 'arrayed_analysis_radius' (float)\n",
      "Stored 'arrayed_analysis_minScore' (float)\n",
      "done with optimization round 1 of 3\n",
      "done with optimization round 2 of 3\n",
      "done with optimization round 3 of 3\n",
      "optimization routine completed. new spot x and y positions saved.\n",
      "Stored 'arrayed_analysis_radius' (float)\n",
      "Stored 'arrayed_analysis_minScore' (float)\n",
      "done with optimization round 1 of 3\n",
      "done with optimization round 2 of 3\n",
      "done with optimization round 3 of 3\n",
      "optimization routine completed. new spot x and y positions saved.\n",
      "Stored 'arrayed_analysis_radius' (float)\n",
      "Stored 'arrayed_analysis_minScore' (float)\n",
      "done with optimization round 1 of 3\n",
      "done with optimization round 2 of 3\n",
      "done with optimization round 3 of 3\n",
      "optimization routine completed. new spot x and y positions saved.\n",
      "Stored 'arrayed_analysis_radius' (float)\n",
      "Stored 'arrayed_analysis_minScore' (float)\n"
     ]
    },
    {
     "ename": "SpotOptimizationException",
     "evalue": "The optimization algorithm was unable to optimize a spot.This could be because there is no signal, because the ion weightingis all zeroes, the overlapDistance is too large in Distance mode, or, in Pixel Overlap mode, spots are overlapping so severely at thebeginning of this routine that it could not find a new location nomore than halfboxsize away that does /not/ overlap with another spot.",
     "output_type": "error",
     "traceback": [
      "\u001b[0;31m---------------------------------------------------------------------------\u001b[0m",
      "\u001b[0;31mSpotOptimizationException\u001b[0m                 Traceback (most recent call last)",
      "\u001b[0;32m<ipython-input-1-3992388dc4db>\u001b[0m in \u001b[0;36mdo_optimize\u001b[0;34m(widget)\u001b[0m\n\u001b[1;32m    463\u001b[0m                                \u001b[0mavoidOverlaps\u001b[0m\u001b[0;34m=\u001b[0m\u001b[0moverlapBox\u001b[0m\u001b[0;34m.\u001b[0m\u001b[0mvalue\u001b[0m\u001b[0;34m,\u001b[0m\u001b[0;34m\u001b[0m\u001b[0m\n\u001b[1;32m    464\u001b[0m                                \u001b[0mprogressbar\u001b[0m\u001b[0;34m=\u001b[0m\u001b[0mprogressbar\u001b[0m\u001b[0;34m,\u001b[0m\u001b[0;34m\u001b[0m\u001b[0m\n\u001b[0;32m--> 465\u001b[0;31m                                minimumScore=arrayed_analysis_minScore)\n\u001b[0m\u001b[1;32m    466\u001b[0m \u001b[0;34m\u001b[0m\u001b[0m\n\u001b[1;32m    467\u001b[0m         \u001b[0mcalcButton\u001b[0m\u001b[0;34m.\u001b[0m\u001b[0mon_click\u001b[0m\u001b[0;34m(\u001b[0m\u001b[0mdo_calculate\u001b[0m\u001b[0;34m)\u001b[0m\u001b[0;34m\u001b[0m\u001b[0m\n",
      "\u001b[0;32m<ipython-input-1-3992388dc4db>\u001b[0m in \u001b[0;36moptimizeSpots\u001b[0;34m(self, halfboxsize, optimizationrounds, integrationRadius, ionWeighting, avoidOverlaps, pixelwiseOverlapAvoidance, overlapDistance_squared, verbose, progressbar, raiseExceptions, minimumScore)\u001b[0m\n\u001b[1;32m    359\u001b[0m                     \u001b[0;32melse\u001b[0m\u001b[0;34m:\u001b[0m\u001b[0;34m\u001b[0m\u001b[0m\n\u001b[1;32m    360\u001b[0m                         \u001b[0;32mif\u001b[0m \u001b[0mraiseExceptions\u001b[0m \u001b[0;32mor\u001b[0m \u001b[0mbest\u001b[0m\u001b[0;34m<=\u001b[0m\u001b[0;36m0\u001b[0m\u001b[0;34m:\u001b[0m \u001b[0;31m#if the score is <=0 something bad must be going on\u001b[0m\u001b[0;34m\u001b[0m\u001b[0m\n\u001b[0;32m--> 361\u001b[0;31m                             \u001b[0;32mraise\u001b[0m \u001b[0mSpotOptimizationException\u001b[0m\u001b[0;34m(\u001b[0m\u001b[0;34m)\u001b[0m\u001b[0;34m\u001b[0m\u001b[0m\n\u001b[0m\u001b[1;32m    362\u001b[0m                         \u001b[0;32melif\u001b[0m\u001b[0;34m(\u001b[0m\u001b[0mverbose\u001b[0m\u001b[0;34m)\u001b[0m\u001b[0;34m:\u001b[0m\u001b[0;34m\u001b[0m\u001b[0m\n\u001b[1;32m    363\u001b[0m                             \u001b[0;32mprint\u001b[0m \u001b[0;34m\"Score of spot #\"\u001b[0m\u001b[0;34m,\u001b[0m\u001b[0mi\u001b[0m\u001b[0;34m,\u001b[0m\u001b[0;34m\"is\"\u001b[0m\u001b[0;34m,\u001b[0m\u001b[0mint\u001b[0m\u001b[0;34m(\u001b[0m\u001b[0mbest\u001b[0m\u001b[0;34m)\u001b[0m\u001b[0;34m,\u001b[0m\u001b[0;34m\", but need >\"\u001b[0m\u001b[0;34m,\u001b[0m\u001b[0mminimumScore\u001b[0m\u001b[0;34m,\u001b[0m\u001b[0;34m\". Location stays as it was before.\"\u001b[0m\u001b[0;34m\u001b[0m\u001b[0m\n",
      "\u001b[0;31mSpotOptimizationException\u001b[0m: The optimization algorithm was unable to optimize a spot.This could be because there is no signal, because the ion weightingis all zeroes, the overlapDistance is too large in Distance mode, or, in Pixel Overlap mode, spots are overlapping so severely at thebeginning of this routine that it could not find a new location nomore than halfboxsize away that does /not/ overlap with another spot."
     ]
    },
    {
     "name": "stdout",
     "output_type": "stream",
     "text": [
      "Stored 'arrayed_analysis_radius' (float)\n",
      "Stored 'arrayed_analysis_minScore' (float)\n",
      "done with optimization round 1 of 3\n",
      "done with optimization round 2 of 3\n",
      "done with optimization round 3 of 3\n",
      "optimization routine completed. new spot x and y positions saved.\n"
     ]
    }
   ],
   "source": [
    "#automagically optimize the spot centers to correspond to the actual spots on the image\n",
    "img.optimizeSpots_with_dialogs()"
   ]
  },
  {
   "cell_type": "markdown",
   "metadata": {},
   "source": [
    "<h2>Displaying and finetuning optimized marker positioning</h2>\n",
    "In order to view the optimized marker postioning, execute the cell below. The base image will be displayed in new window. Individual markers can be moved by dragging the markers to the preferred postion.\n",
    "<p>If no automatic spot optimization was performed, the trapezoidal mask will be at same postion as it was. Still, individual markers can be moved by dragging the markers to the preferred postion.\n",
    "<p>___--In order to continue with running the next cell in the iPython notebook, the base image figure wondow has to be closed. The last coordinates of the mask will be stored--___"
   ]
  },
  {
   "cell_type": "code",
   "execution_count": 10,
   "metadata": {
    "collapsed": false
   },
   "outputs": [
    {
     "name": "stdout",
     "output_type": "stream",
     "text": [
      "The window should be open now. If you can't see it, check to see if it's behind another window\n",
      "new spot x and y locations have been saved.\n"
     ]
    }
   ],
   "source": [
    "#check the positions of the spots and manually adjust them if need be\n",
    "img.fineTunePosition(colormap='jet_r')"
   ]
  },
  {
   "cell_type": "markdown",
   "metadata": {},
   "source": [
    "<h2>Saving Arrayed Image</h2>\n",
    "If needed, the arrayed image, including the coordinates of the spots, can be stored in a 'pickle' file. First, enter a name between the parentheses, replacing name_pickle_file. Then execute the cell to save the file. \n",
    "<p> _--For this tutorial, saving the mask position is optional--_"
   ]
  },
  {
   "cell_type": "code",
   "execution_count": 11,
   "metadata": {
    "collapsed": false
   },
   "outputs": [
    {
     "name": "stdout",
     "output_type": "stream",
     "text": [
      "Done saving.\n"
     ]
    }
   ],
   "source": [
    "#Optional: Save the ArrayedImage into a pickle file.\n",
    "filename=\"bug_fix_pickle.arrayed_img\"\n",
    "import pickle\n",
    "pickle.dump(img, open(filename,\"wb\"))\n",
    "print \"Done saving.\""
   ]
  },
  {
   "cell_type": "markdown",
   "metadata": {},
   "source": [
    "<h2>Loading saved mask position</h2>\n",
    "Saved arrayed images can be loaded from a pickle file. Enter the name of the saved pickle file between the parentheses, replacing name_saved_pickle_file. Then, execute the cell to load the file. \n",
    "<p> _--For this tutorial, this step is optional--_"
   ]
  },
  {
   "cell_type": "code",
   "execution_count": null,
   "metadata": {
    "collapsed": false
   },
   "outputs": [],
   "source": [
    "#Optional: Load an ArrayedImage from a pickle file. This way you can work off-line\n",
    "filename=\"filename.arrayed_img\"\n",
    "import pickle\n",
    "img=pickle.load(open(filename,\"rb\"))\n",
    "print img"
   ]
  },
  {
   "cell_type": "markdown",
   "metadata": {},
   "source": [
    "<h2>Calculating the spot areas, and final inspection</h2>\n",
    "Execute the cell below, to calculate which pixels belong to which spot. The integration radius of the markers can be adjusted, but if you leave it as-is, the same number you used in the optimization stage will be used.\n",
    "A visual representation of the marker size and positioning will be genreated for visiual inspection.\n",
    "<p>--The message \"x spots generated. number of spots with N pixels:{x: x, x: x}\" will appear--_"
   ]
  },
  {
   "cell_type": "code",
   "execution_count": 12,
   "metadata": {
    "collapsed": false
   },
   "outputs": [
    {
     "name": "stdout",
     "output_type": "stream",
     "text": [
      "20 spots generated. number of spots with N pixels:{71: 1, 111: 5, 112: 3, 113: 5, 114: 1, 115: 5}\n",
      "The window should be open now. If you can't see it, check to see if it's behind another window\n"
     ]
    }
   ],
   "source": [
    "#You'll need to call this function. It returns a list of spots (where each spot is a list of pixels),\n",
    "#which is also stored inside the object.\n",
    "%store -r arrayed_analysis_radius\n",
    "spots=img.generateSpotList(integrationRadius=arrayed_analysis_radius)\n",
    "img.showMaskedImage(spotList=spots,alphaRows=True)\n",
    "#this is the same integration radius that you set in the optimization step"
   ]
  },
  {
   "cell_type": "markdown",
   "metadata": {},
   "source": [
    "<h2>Exporting results into a tab-separated file</h2>\n",
    "The next cell is used to save the results of the arrayed analysis tool as a table into a .tab file. It name the file after the current date and time, but if you want to give the file a specific name, enter the name between the quotes after filename=,\n",
    "\n",
    "The file will contain a tab-separated file which you could open in Excel to do further data anlysis."
   ]
  },
  {
   "cell_type": "code",
   "execution_count": 13,
   "metadata": {
    "collapsed": false,
    "scrolled": true
   },
   "outputs": [
    {
     "data": {
      "text/html": [
       "Click the link below to access the results file:<br><a href='bug_fix_pickle_results_file' target='_blank'>bug_fix_pickle_results_file</a><br>Open it in Microsoft Excel or your favorite data analysis program.<br>\n",
       "                                                You should now be done using this tool, but if you decide you want to\n",
       "                                                further optimize your spot placement, make sure to re-run the\n",
       "                                                notebook cells to update your results.\n",
       "                                                <br><br>Thank you for using the OpenMSI Arrayed Analysis tool!"
      ],
      "text/plain": [
       "/Users/markus_de_raad/Documents/Markus werk/Northen Lab/Northen_Lab_ipython/BioRack_Arrayed_Analysis_Tool_1/OpenMSI_Arrayed_Analysis_Tools/bug_fix_pickle_results_file"
      ]
     },
     "metadata": {},
     "output_type": "display_data"
    }
   ],
   "source": [
    "#Write results to a file\n",
    "#if you don't pass it an explicit spotList it will use the spot set stored in the ArrayedImage\n",
    "filename=\"bug_fix_pickle_results_file\"\n",
    "img.writeResultTable(fileName=filename)"
   ]
  },
  {
   "cell_type": "markdown",
   "metadata": {},
   "source": [
    "<h2>Using pandas to perform programmatic data analysis</h2>\n",
    "If you prefer to use Pandas over Excel to do data analysis, the resultsDataFrame method returns a Pandas dataframe with the same kind of information that the writeResultTable method gives.\n",
    "In this example, we compute the first ion as a percentage of all ions loaded, and plot those percentages, from small to large, using matplotlib. "
   ]
  },
  {
   "cell_type": "code",
   "execution_count": 14,
   "metadata": {
    "collapsed": false
   },
   "outputs": [
    {
     "data": {
      "text/html": [
       "<div>\n",
       "<table border=\"1\" class=\"dataframe\">\n",
       "  <thead>\n",
       "    <tr>\n",
       "      <th>ion</th>\n",
       "      <th colspan=\"6\" halign=\"left\">900.000000</th>\n",
       "      <th colspan=\"4\" halign=\"left\">800.899624</th>\n",
       "      <th>...</th>\n",
       "      <th colspan=\"4\" halign=\"left\">888.212000</th>\n",
       "      <th colspan=\"6\" halign=\"left\">750.654600</th>\n",
       "    </tr>\n",
       "    <tr>\n",
       "      <th>descriptor</th>\n",
       "      <th>sum</th>\n",
       "      <th>mean</th>\n",
       "      <th>median</th>\n",
       "      <th>min</th>\n",
       "      <th>max</th>\n",
       "      <th>num_pixels</th>\n",
       "      <th>sum</th>\n",
       "      <th>mean</th>\n",
       "      <th>median</th>\n",
       "      <th>min</th>\n",
       "      <th>...</th>\n",
       "      <th>median</th>\n",
       "      <th>min</th>\n",
       "      <th>max</th>\n",
       "      <th>num_pixels</th>\n",
       "      <th>sum</th>\n",
       "      <th>mean</th>\n",
       "      <th>median</th>\n",
       "      <th>min</th>\n",
       "      <th>max</th>\n",
       "      <th>num_pixels</th>\n",
       "    </tr>\n",
       "  </thead>\n",
       "  <tbody>\n",
       "    <tr>\n",
       "      <th>A01</th>\n",
       "      <td>3251</td>\n",
       "      <td>45.788732</td>\n",
       "      <td>16</td>\n",
       "      <td>1</td>\n",
       "      <td>346</td>\n",
       "      <td>71</td>\n",
       "      <td>13540</td>\n",
       "      <td>190.704225</td>\n",
       "      <td>184.0</td>\n",
       "      <td>8</td>\n",
       "      <td>...</td>\n",
       "      <td>9</td>\n",
       "      <td>3</td>\n",
       "      <td>32</td>\n",
       "      <td>71</td>\n",
       "      <td>5324</td>\n",
       "      <td>74.985915</td>\n",
       "      <td>65</td>\n",
       "      <td>8</td>\n",
       "      <td>245</td>\n",
       "      <td>71</td>\n",
       "    </tr>\n",
       "    <tr>\n",
       "      <th>A02</th>\n",
       "      <td>1549</td>\n",
       "      <td>13.707965</td>\n",
       "      <td>9</td>\n",
       "      <td>3</td>\n",
       "      <td>155</td>\n",
       "      <td>113</td>\n",
       "      <td>10518</td>\n",
       "      <td>93.079646</td>\n",
       "      <td>84.0</td>\n",
       "      <td>6</td>\n",
       "      <td>...</td>\n",
       "      <td>6</td>\n",
       "      <td>1</td>\n",
       "      <td>16</td>\n",
       "      <td>113</td>\n",
       "      <td>7279</td>\n",
       "      <td>64.415929</td>\n",
       "      <td>40</td>\n",
       "      <td>4</td>\n",
       "      <td>215</td>\n",
       "      <td>113</td>\n",
       "    </tr>\n",
       "    <tr>\n",
       "      <th>B01</th>\n",
       "      <td>3800</td>\n",
       "      <td>33.333333</td>\n",
       "      <td>16</td>\n",
       "      <td>1</td>\n",
       "      <td>346</td>\n",
       "      <td>114</td>\n",
       "      <td>17140</td>\n",
       "      <td>150.350877</td>\n",
       "      <td>135.0</td>\n",
       "      <td>11</td>\n",
       "      <td>...</td>\n",
       "      <td>9</td>\n",
       "      <td>1</td>\n",
       "      <td>32</td>\n",
       "      <td>114</td>\n",
       "      <td>6849</td>\n",
       "      <td>60.078947</td>\n",
       "      <td>38</td>\n",
       "      <td>6</td>\n",
       "      <td>251</td>\n",
       "      <td>114</td>\n",
       "    </tr>\n",
       "    <tr>\n",
       "      <th>B02</th>\n",
       "      <td>1613</td>\n",
       "      <td>14.401786</td>\n",
       "      <td>9</td>\n",
       "      <td>1</td>\n",
       "      <td>151</td>\n",
       "      <td>112</td>\n",
       "      <td>11154</td>\n",
       "      <td>99.589286</td>\n",
       "      <td>75.5</td>\n",
       "      <td>6</td>\n",
       "      <td>...</td>\n",
       "      <td>6</td>\n",
       "      <td>1</td>\n",
       "      <td>21</td>\n",
       "      <td>112</td>\n",
       "      <td>5910</td>\n",
       "      <td>52.767857</td>\n",
       "      <td>33</td>\n",
       "      <td>4</td>\n",
       "      <td>171</td>\n",
       "      <td>112</td>\n",
       "    </tr>\n",
       "    <tr>\n",
       "      <th>C01</th>\n",
       "      <td>5797</td>\n",
       "      <td>52.225225</td>\n",
       "      <td>40</td>\n",
       "      <td>3</td>\n",
       "      <td>210</td>\n",
       "      <td>111</td>\n",
       "      <td>13627</td>\n",
       "      <td>122.765766</td>\n",
       "      <td>114.0</td>\n",
       "      <td>39</td>\n",
       "      <td>...</td>\n",
       "      <td>39</td>\n",
       "      <td>9</td>\n",
       "      <td>63</td>\n",
       "      <td>111</td>\n",
       "      <td>10235</td>\n",
       "      <td>92.207207</td>\n",
       "      <td>86</td>\n",
       "      <td>21</td>\n",
       "      <td>235</td>\n",
       "      <td>111</td>\n",
       "    </tr>\n",
       "    <tr>\n",
       "      <th>C02</th>\n",
       "      <td>5148</td>\n",
       "      <td>44.765217</td>\n",
       "      <td>39</td>\n",
       "      <td>22</td>\n",
       "      <td>169</td>\n",
       "      <td>115</td>\n",
       "      <td>15506</td>\n",
       "      <td>134.834783</td>\n",
       "      <td>120.0</td>\n",
       "      <td>32</td>\n",
       "      <td>...</td>\n",
       "      <td>32</td>\n",
       "      <td>22</td>\n",
       "      <td>55</td>\n",
       "      <td>115</td>\n",
       "      <td>13225</td>\n",
       "      <td>115.000000</td>\n",
       "      <td>75</td>\n",
       "      <td>29</td>\n",
       "      <td>316</td>\n",
       "      <td>115</td>\n",
       "    </tr>\n",
       "    <tr>\n",
       "      <th>D01</th>\n",
       "      <td>6003</td>\n",
       "      <td>54.081081</td>\n",
       "      <td>45</td>\n",
       "      <td>19</td>\n",
       "      <td>181</td>\n",
       "      <td>111</td>\n",
       "      <td>24654</td>\n",
       "      <td>222.108108</td>\n",
       "      <td>200.0</td>\n",
       "      <td>57</td>\n",
       "      <td>...</td>\n",
       "      <td>35</td>\n",
       "      <td>19</td>\n",
       "      <td>66</td>\n",
       "      <td>111</td>\n",
       "      <td>12051</td>\n",
       "      <td>108.567568</td>\n",
       "      <td>89</td>\n",
       "      <td>35</td>\n",
       "      <td>349</td>\n",
       "      <td>111</td>\n",
       "    </tr>\n",
       "    <tr>\n",
       "      <th>D02</th>\n",
       "      <td>4364</td>\n",
       "      <td>38.619469</td>\n",
       "      <td>32</td>\n",
       "      <td>17</td>\n",
       "      <td>187</td>\n",
       "      <td>113</td>\n",
       "      <td>13504</td>\n",
       "      <td>119.504425</td>\n",
       "      <td>106.0</td>\n",
       "      <td>29</td>\n",
       "      <td>...</td>\n",
       "      <td>29</td>\n",
       "      <td>17</td>\n",
       "      <td>47</td>\n",
       "      <td>113</td>\n",
       "      <td>9699</td>\n",
       "      <td>85.831858</td>\n",
       "      <td>60</td>\n",
       "      <td>24</td>\n",
       "      <td>227</td>\n",
       "      <td>113</td>\n",
       "    </tr>\n",
       "    <tr>\n",
       "      <th>E01</th>\n",
       "      <td>5495</td>\n",
       "      <td>48.628319</td>\n",
       "      <td>42</td>\n",
       "      <td>19</td>\n",
       "      <td>210</td>\n",
       "      <td>113</td>\n",
       "      <td>28735</td>\n",
       "      <td>254.292035</td>\n",
       "      <td>251.0</td>\n",
       "      <td>80</td>\n",
       "      <td>...</td>\n",
       "      <td>34</td>\n",
       "      <td>21</td>\n",
       "      <td>71</td>\n",
       "      <td>113</td>\n",
       "      <td>15666</td>\n",
       "      <td>138.637168</td>\n",
       "      <td>112</td>\n",
       "      <td>42</td>\n",
       "      <td>374</td>\n",
       "      <td>113</td>\n",
       "    </tr>\n",
       "    <tr>\n",
       "      <th>E02</th>\n",
       "      <td>4186</td>\n",
       "      <td>37.711712</td>\n",
       "      <td>34</td>\n",
       "      <td>17</td>\n",
       "      <td>127</td>\n",
       "      <td>111</td>\n",
       "      <td>13332</td>\n",
       "      <td>120.108108</td>\n",
       "      <td>101.0</td>\n",
       "      <td>31</td>\n",
       "      <td>...</td>\n",
       "      <td>27</td>\n",
       "      <td>17</td>\n",
       "      <td>55</td>\n",
       "      <td>111</td>\n",
       "      <td>10901</td>\n",
       "      <td>98.207207</td>\n",
       "      <td>63</td>\n",
       "      <td>27</td>\n",
       "      <td>307</td>\n",
       "      <td>111</td>\n",
       "    </tr>\n",
       "    <tr>\n",
       "      <th>F01</th>\n",
       "      <td>5089</td>\n",
       "      <td>45.846847</td>\n",
       "      <td>40</td>\n",
       "      <td>22</td>\n",
       "      <td>130</td>\n",
       "      <td>111</td>\n",
       "      <td>24903</td>\n",
       "      <td>224.351351</td>\n",
       "      <td>225.0</td>\n",
       "      <td>70</td>\n",
       "      <td>...</td>\n",
       "      <td>35</td>\n",
       "      <td>19</td>\n",
       "      <td>71</td>\n",
       "      <td>111</td>\n",
       "      <td>14487</td>\n",
       "      <td>130.513514</td>\n",
       "      <td>99</td>\n",
       "      <td>34</td>\n",
       "      <td>374</td>\n",
       "      <td>111</td>\n",
       "    </tr>\n",
       "    <tr>\n",
       "      <th>F02</th>\n",
       "      <td>3713</td>\n",
       "      <td>32.286957</td>\n",
       "      <td>27</td>\n",
       "      <td>16</td>\n",
       "      <td>83</td>\n",
       "      <td>115</td>\n",
       "      <td>10378</td>\n",
       "      <td>90.243478</td>\n",
       "      <td>84.0</td>\n",
       "      <td>32</td>\n",
       "      <td>...</td>\n",
       "      <td>24</td>\n",
       "      <td>16</td>\n",
       "      <td>40</td>\n",
       "      <td>115</td>\n",
       "      <td>8162</td>\n",
       "      <td>70.973913</td>\n",
       "      <td>53</td>\n",
       "      <td>21</td>\n",
       "      <td>276</td>\n",
       "      <td>115</td>\n",
       "    </tr>\n",
       "    <tr>\n",
       "      <th>G01</th>\n",
       "      <td>5468</td>\n",
       "      <td>48.389381</td>\n",
       "      <td>44</td>\n",
       "      <td>24</td>\n",
       "      <td>179</td>\n",
       "      <td>113</td>\n",
       "      <td>26487</td>\n",
       "      <td>234.398230</td>\n",
       "      <td>227.0</td>\n",
       "      <td>50</td>\n",
       "      <td>...</td>\n",
       "      <td>37</td>\n",
       "      <td>21</td>\n",
       "      <td>63</td>\n",
       "      <td>113</td>\n",
       "      <td>14830</td>\n",
       "      <td>131.238938</td>\n",
       "      <td>109</td>\n",
       "      <td>29</td>\n",
       "      <td>313</td>\n",
       "      <td>113</td>\n",
       "    </tr>\n",
       "    <tr>\n",
       "      <th>G02</th>\n",
       "      <td>4145</td>\n",
       "      <td>36.043478</td>\n",
       "      <td>31</td>\n",
       "      <td>16</td>\n",
       "      <td>140</td>\n",
       "      <td>115</td>\n",
       "      <td>15240</td>\n",
       "      <td>132.521739</td>\n",
       "      <td>125.0</td>\n",
       "      <td>34</td>\n",
       "      <td>...</td>\n",
       "      <td>29</td>\n",
       "      <td>16</td>\n",
       "      <td>52</td>\n",
       "      <td>115</td>\n",
       "      <td>13620</td>\n",
       "      <td>118.434783</td>\n",
       "      <td>68</td>\n",
       "      <td>26</td>\n",
       "      <td>486</td>\n",
       "      <td>115</td>\n",
       "    </tr>\n",
       "    <tr>\n",
       "      <th>H01</th>\n",
       "      <td>5721</td>\n",
       "      <td>50.628319</td>\n",
       "      <td>49</td>\n",
       "      <td>24</td>\n",
       "      <td>88</td>\n",
       "      <td>113</td>\n",
       "      <td>22361</td>\n",
       "      <td>197.884956</td>\n",
       "      <td>200.0</td>\n",
       "      <td>71</td>\n",
       "      <td>...</td>\n",
       "      <td>49</td>\n",
       "      <td>24</td>\n",
       "      <td>73</td>\n",
       "      <td>113</td>\n",
       "      <td>15505</td>\n",
       "      <td>137.212389</td>\n",
       "      <td>122</td>\n",
       "      <td>39</td>\n",
       "      <td>318</td>\n",
       "      <td>113</td>\n",
       "    </tr>\n",
       "    <tr>\n",
       "      <th>H02</th>\n",
       "      <td>4226</td>\n",
       "      <td>36.747826</td>\n",
       "      <td>31</td>\n",
       "      <td>17</td>\n",
       "      <td>135</td>\n",
       "      <td>115</td>\n",
       "      <td>10462</td>\n",
       "      <td>90.973913</td>\n",
       "      <td>75.0</td>\n",
       "      <td>29</td>\n",
       "      <td>...</td>\n",
       "      <td>29</td>\n",
       "      <td>17</td>\n",
       "      <td>53</td>\n",
       "      <td>115</td>\n",
       "      <td>9256</td>\n",
       "      <td>80.486957</td>\n",
       "      <td>53</td>\n",
       "      <td>29</td>\n",
       "      <td>256</td>\n",
       "      <td>115</td>\n",
       "    </tr>\n",
       "    <tr>\n",
       "      <th>I01</th>\n",
       "      <td>5357</td>\n",
       "      <td>48.261261</td>\n",
       "      <td>47</td>\n",
       "      <td>17</td>\n",
       "      <td>98</td>\n",
       "      <td>111</td>\n",
       "      <td>21901</td>\n",
       "      <td>197.306306</td>\n",
       "      <td>189.0</td>\n",
       "      <td>31</td>\n",
       "      <td>...</td>\n",
       "      <td>34</td>\n",
       "      <td>19</td>\n",
       "      <td>58</td>\n",
       "      <td>111</td>\n",
       "      <td>14440</td>\n",
       "      <td>130.090090</td>\n",
       "      <td>99</td>\n",
       "      <td>37</td>\n",
       "      <td>323</td>\n",
       "      <td>111</td>\n",
       "    </tr>\n",
       "    <tr>\n",
       "      <th>I02</th>\n",
       "      <td>4283</td>\n",
       "      <td>38.241071</td>\n",
       "      <td>31</td>\n",
       "      <td>17</td>\n",
       "      <td>171</td>\n",
       "      <td>112</td>\n",
       "      <td>9730</td>\n",
       "      <td>86.875000</td>\n",
       "      <td>77.0</td>\n",
       "      <td>22</td>\n",
       "      <td>...</td>\n",
       "      <td>26</td>\n",
       "      <td>13</td>\n",
       "      <td>47</td>\n",
       "      <td>112</td>\n",
       "      <td>8904</td>\n",
       "      <td>79.500000</td>\n",
       "      <td>52</td>\n",
       "      <td>26</td>\n",
       "      <td>341</td>\n",
       "      <td>112</td>\n",
       "    </tr>\n",
       "    <tr>\n",
       "      <th>J01</th>\n",
       "      <td>6285</td>\n",
       "      <td>54.652174</td>\n",
       "      <td>49</td>\n",
       "      <td>17</td>\n",
       "      <td>441</td>\n",
       "      <td>115</td>\n",
       "      <td>21017</td>\n",
       "      <td>182.756522</td>\n",
       "      <td>176.0</td>\n",
       "      <td>44</td>\n",
       "      <td>...</td>\n",
       "      <td>35</td>\n",
       "      <td>21</td>\n",
       "      <td>73</td>\n",
       "      <td>115</td>\n",
       "      <td>13627</td>\n",
       "      <td>118.495652</td>\n",
       "      <td>104</td>\n",
       "      <td>39</td>\n",
       "      <td>259</td>\n",
       "      <td>115</td>\n",
       "    </tr>\n",
       "    <tr>\n",
       "      <th>J02</th>\n",
       "      <td>4096</td>\n",
       "      <td>36.571429</td>\n",
       "      <td>33</td>\n",
       "      <td>16</td>\n",
       "      <td>76</td>\n",
       "      <td>112</td>\n",
       "      <td>11139</td>\n",
       "      <td>99.455357</td>\n",
       "      <td>88.0</td>\n",
       "      <td>29</td>\n",
       "      <td>...</td>\n",
       "      <td>27</td>\n",
       "      <td>17</td>\n",
       "      <td>52</td>\n",
       "      <td>112</td>\n",
       "      <td>10296</td>\n",
       "      <td>91.928571</td>\n",
       "      <td>70</td>\n",
       "      <td>26</td>\n",
       "      <td>261</td>\n",
       "      <td>112</td>\n",
       "    </tr>\n",
       "  </tbody>\n",
       "</table>\n",
       "<p>20 rows × 24 columns</p>\n",
       "</div>"
      ],
      "text/plain": [
       "ion        900.000000                                       800.899624  \\\n",
       "descriptor        sum       mean median min  max num_pixels        sum   \n",
       "A01              3251  45.788732     16   1  346         71      13540   \n",
       "A02              1549  13.707965      9   3  155        113      10518   \n",
       "B01              3800  33.333333     16   1  346        114      17140   \n",
       "B02              1613  14.401786      9   1  151        112      11154   \n",
       "C01              5797  52.225225     40   3  210        111      13627   \n",
       "C02              5148  44.765217     39  22  169        115      15506   \n",
       "D01              6003  54.081081     45  19  181        111      24654   \n",
       "D02              4364  38.619469     32  17  187        113      13504   \n",
       "E01              5495  48.628319     42  19  210        113      28735   \n",
       "E02              4186  37.711712     34  17  127        111      13332   \n",
       "F01              5089  45.846847     40  22  130        111      24903   \n",
       "F02              3713  32.286957     27  16   83        115      10378   \n",
       "G01              5468  48.389381     44  24  179        113      26487   \n",
       "G02              4145  36.043478     31  16  140        115      15240   \n",
       "H01              5721  50.628319     49  24   88        113      22361   \n",
       "H02              4226  36.747826     31  17  135        115      10462   \n",
       "I01              5357  48.261261     47  17   98        111      21901   \n",
       "I02              4283  38.241071     31  17  171        112       9730   \n",
       "J01              6285  54.652174     49  17  441        115      21017   \n",
       "J02              4096  36.571429     33  16   76        112      11139   \n",
       "\n",
       "ion                                  ...     888.212000                     \\\n",
       "descriptor        mean median min    ...         median min max num_pixels   \n",
       "A01         190.704225  184.0   8    ...              9   3  32         71   \n",
       "A02          93.079646   84.0   6    ...              6   1  16        113   \n",
       "B01         150.350877  135.0  11    ...              9   1  32        114   \n",
       "B02          99.589286   75.5   6    ...              6   1  21        112   \n",
       "C01         122.765766  114.0  39    ...             39   9  63        111   \n",
       "C02         134.834783  120.0  32    ...             32  22  55        115   \n",
       "D01         222.108108  200.0  57    ...             35  19  66        111   \n",
       "D02         119.504425  106.0  29    ...             29  17  47        113   \n",
       "E01         254.292035  251.0  80    ...             34  21  71        113   \n",
       "E02         120.108108  101.0  31    ...             27  17  55        111   \n",
       "F01         224.351351  225.0  70    ...             35  19  71        111   \n",
       "F02          90.243478   84.0  32    ...             24  16  40        115   \n",
       "G01         234.398230  227.0  50    ...             37  21  63        113   \n",
       "G02         132.521739  125.0  34    ...             29  16  52        115   \n",
       "H01         197.884956  200.0  71    ...             49  24  73        113   \n",
       "H02          90.973913   75.0  29    ...             29  17  53        115   \n",
       "I01         197.306306  189.0  31    ...             34  19  58        111   \n",
       "I02          86.875000   77.0  22    ...             26  13  47        112   \n",
       "J01         182.756522  176.0  44    ...             35  21  73        115   \n",
       "J02          99.455357   88.0  29    ...             27  17  52        112   \n",
       "\n",
       "ion        750.654600                                         \n",
       "descriptor        sum        mean median min  max num_pixels  \n",
       "A01              5324   74.985915     65   8  245         71  \n",
       "A02              7279   64.415929     40   4  215        113  \n",
       "B01              6849   60.078947     38   6  251        114  \n",
       "B02              5910   52.767857     33   4  171        112  \n",
       "C01             10235   92.207207     86  21  235        111  \n",
       "C02             13225  115.000000     75  29  316        115  \n",
       "D01             12051  108.567568     89  35  349        111  \n",
       "D02              9699   85.831858     60  24  227        113  \n",
       "E01             15666  138.637168    112  42  374        113  \n",
       "E02             10901   98.207207     63  27  307        111  \n",
       "F01             14487  130.513514     99  34  374        111  \n",
       "F02              8162   70.973913     53  21  276        115  \n",
       "G01             14830  131.238938    109  29  313        113  \n",
       "G02             13620  118.434783     68  26  486        115  \n",
       "H01             15505  137.212389    122  39  318        113  \n",
       "H02              9256   80.486957     53  29  256        115  \n",
       "I01             14440  130.090090     99  37  323        111  \n",
       "I02              8904   79.500000     52  26  341        112  \n",
       "J01             13627  118.495652    104  39  259        115  \n",
       "J02             10296   91.928571     70  26  261        112  \n",
       "\n",
       "[20 rows x 24 columns]"
      ]
     },
     "metadata": {},
     "output_type": "display_data"
    },
    {
     "ename": "AttributeError",
     "evalue": "'Series' object has no attribute 'sort_values'",
     "output_type": "error",
     "traceback": [
      "\u001b[0;31m---------------------------------------------------------------------------\u001b[0m",
      "\u001b[0;31mAttributeError\u001b[0m                            Traceback (most recent call last)",
      "\u001b[0;32m<ipython-input-14-693a84579e37>\u001b[0m in \u001b[0;36m<module>\u001b[0;34m()\u001b[0m\n\u001b[1;32m      4\u001b[0m \u001b[0msums_df\u001b[0m\u001b[0;34m.\u001b[0m\u001b[0mcolumns\u001b[0m \u001b[0;34m=\u001b[0m \u001b[0msums_df\u001b[0m\u001b[0;34m.\u001b[0m\u001b[0mcolumns\u001b[0m\u001b[0;34m.\u001b[0m\u001b[0mget_level_values\u001b[0m\u001b[0;34m(\u001b[0m\u001b[0;36m0\u001b[0m\u001b[0;34m)\u001b[0m \u001b[0;31m#name the columns to make indexing easier later\u001b[0m\u001b[0;34m\u001b[0m\u001b[0m\n\u001b[1;32m      5\u001b[0m \u001b[0mpercentage_firstion\u001b[0m\u001b[0;34m=\u001b[0m\u001b[0;36m100.0\u001b[0m\u001b[0;34m*\u001b[0m\u001b[0msums_df\u001b[0m\u001b[0;34m[\u001b[0m\u001b[0mimg\u001b[0m\u001b[0;34m.\u001b[0m\u001b[0mions\u001b[0m\u001b[0;34m[\u001b[0m\u001b[0;36m0\u001b[0m\u001b[0;34m]\u001b[0m\u001b[0;34m]\u001b[0m\u001b[0;34m/\u001b[0m\u001b[0msums_df\u001b[0m\u001b[0;34m.\u001b[0m\u001b[0msum\u001b[0m\u001b[0;34m(\u001b[0m\u001b[0maxis\u001b[0m\u001b[0;34m=\u001b[0m\u001b[0;36m1\u001b[0m\u001b[0;34m)\u001b[0m \u001b[0;31m#calculate the percentage\u001b[0m\u001b[0;34m\u001b[0m\u001b[0m\n\u001b[0;32m----> 6\u001b[0;31m \u001b[0mpercentage_firstion\u001b[0m\u001b[0;34m.\u001b[0m\u001b[0msort_values\u001b[0m\u001b[0;34m(\u001b[0m\u001b[0minplace\u001b[0m\u001b[0;34m=\u001b[0m\u001b[0mTrue\u001b[0m\u001b[0;34m)\u001b[0m \u001b[0;31m#rank the data from low to high\u001b[0m\u001b[0;34m\u001b[0m\u001b[0m\n\u001b[0m\u001b[1;32m      7\u001b[0m \u001b[0mplt\u001b[0m\u001b[0;34m.\u001b[0m\u001b[0mbar\u001b[0m\u001b[0;34m(\u001b[0m\u001b[0mrange\u001b[0m\u001b[0;34m(\u001b[0m\u001b[0mlen\u001b[0m\u001b[0;34m(\u001b[0m\u001b[0mpercentage_firstion\u001b[0m\u001b[0;34m)\u001b[0m\u001b[0;34m)\u001b[0m\u001b[0;34m,\u001b[0m\u001b[0mpercentage_firstion\u001b[0m\u001b[0;34m,\u001b[0m\u001b[0medgecolor\u001b[0m\u001b[0;34m=\u001b[0m\u001b[0;34m'b'\u001b[0m\u001b[0;34m)\u001b[0m \u001b[0;31m#define a bar chart\u001b[0m\u001b[0;34m\u001b[0m\u001b[0m\n\u001b[1;32m      8\u001b[0m \u001b[0mplt\u001b[0m\u001b[0;34m.\u001b[0m\u001b[0mxlabel\u001b[0m\u001b[0;34m(\u001b[0m\u001b[0;34m'Spot rank'\u001b[0m\u001b[0;34m)\u001b[0m \u001b[0;31m#set x axis label\u001b[0m\u001b[0;34m\u001b[0m\u001b[0m\n",
      "\u001b[0;32m/Users/markus_de_raad/anaconda/lib/python2.7/site-packages/pandas/core/generic.pyc\u001b[0m in \u001b[0;36m__getattr__\u001b[0;34m(self, name)\u001b[0m\n\u001b[1;32m   2148\u001b[0m                 \u001b[0;32mreturn\u001b[0m \u001b[0mself\u001b[0m\u001b[0;34m[\u001b[0m\u001b[0mname\u001b[0m\u001b[0;34m]\u001b[0m\u001b[0;34m\u001b[0m\u001b[0m\n\u001b[1;32m   2149\u001b[0m             raise AttributeError(\"'%s' object has no attribute '%s'\" %\n\u001b[0;32m-> 2150\u001b[0;31m                                  (type(self).__name__, name))\n\u001b[0m\u001b[1;32m   2151\u001b[0m \u001b[0;34m\u001b[0m\u001b[0m\n\u001b[1;32m   2152\u001b[0m     \u001b[0;32mdef\u001b[0m \u001b[0m__setattr__\u001b[0m\u001b[0;34m(\u001b[0m\u001b[0mself\u001b[0m\u001b[0;34m,\u001b[0m \u001b[0mname\u001b[0m\u001b[0;34m,\u001b[0m \u001b[0mvalue\u001b[0m\u001b[0;34m)\u001b[0m\u001b[0;34m:\u001b[0m\u001b[0;34m\u001b[0m\u001b[0m\n",
      "\u001b[0;31mAttributeError\u001b[0m: 'Series' object has no attribute 'sort_values'"
     ]
    }
   ],
   "source": [
    "df=img.resultsDataFrame(minPixelIntensity=0,alphaRows=True) #generate the dataframe\n",
    "IPython.display.display(df)\n",
    "sums_df=df.loc[:,(slice(None),'sum')] #get the sums from the dataframe\n",
    "sums_df.columns = sums_df.columns.get_level_values(0) #name the columns to make indexing easier later\n",
    "percentage_firstion=100.0*sums_df[img.ions[0]]/sums_df.sum(axis=1) #calculate the percentage\n",
    "percentage_firstion.sort_values(inplace=True) #rank the data from low to high\n",
    "plt.bar(range(len(percentage_firstion)),percentage_firstion,edgecolor='b') #define a bar chart\n",
    "plt.xlabel('Spot rank') #set x axis label\n",
    "plt.ylabel(\"% m/z={:.1f} of all loaded ions\".format(img.ions[0])) #set y axis label\n",
    "plt.xlim(0,len(percentage_firstion)-1) #set x axis range\n",
    "plt.show()"
   ]
  },
  {
   "cell_type": "code",
   "execution_count": null,
   "metadata": {
    "collapsed": true
   },
   "outputs": [],
   "source": []
  }
 ],
 "metadata": {
  "kernelspec": {
   "display_name": "Python 2",
   "language": "python",
   "name": "python2"
  },
  "language_info": {
   "codemirror_mode": {
    "name": "ipython",
    "version": 2
   },
   "file_extension": ".py",
   "mimetype": "text/x-python",
   "name": "python",
   "nbconvert_exporter": "python",
   "pygments_lexer": "ipython2",
   "version": "2.7.11"
  }
 },
 "nbformat": 4,
 "nbformat_minor": 0
}
